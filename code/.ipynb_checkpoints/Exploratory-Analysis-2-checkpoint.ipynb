{
 "cells": [
  {
   "cell_type": "code",
   "execution_count": 1,
   "metadata": {},
   "outputs": [],
   "source": [
    "import pandas as pd\n",
    "import numpy as np\n",
    "import seaborn as sns\n",
    "from scipy import stats\n",
    "from sklearn.preprocessing import MinMaxScaler\n",
    "from sklearn.decomposition import PCA\n",
    "import matplotlib.pyplot as plt"
   ]
  },
  {
   "cell_type": "code",
   "execution_count": 2,
   "metadata": {},
   "outputs": [],
   "source": [
    "# Loading train and test data\n",
    "\n",
    "train = pd.read_csv(\"../Dataset/train.csv\") \n",
    "test = pd.read_csv(\"../Dataset/test.csv\") "
   ]
  },
  {
   "cell_type": "code",
   "execution_count": 3,
   "metadata": {},
   "outputs": [
    {
     "ename": "NameError",
     "evalue": "name 'train1' is not defined",
     "output_type": "error",
     "traceback": [
      "\u001b[0;31m---------------------------------------------------------------------------\u001b[0m",
      "\u001b[0;31mNameError\u001b[0m                                 Traceback (most recent call last)",
      "\u001b[0;32m<ipython-input-3-1f3445c51886>\u001b[0m in \u001b[0;36m<module>\u001b[0;34m\u001b[0m\n\u001b[0;32m----> 1\u001b[0;31m \u001b[0mtrain\u001b[0m \u001b[0;34m=\u001b[0m \u001b[0mtrain\u001b[0m\u001b[0;34m[\u001b[0m\u001b[0mtrain1\u001b[0m\u001b[0;34m[\u001b[0m\u001b[0;34m\"TARGET\"\u001b[0m\u001b[0;34m]\u001b[0m \u001b[0;34m==\u001b[0m \u001b[0;36m0\u001b[0m\u001b[0;34m]\u001b[0m\u001b[0;34m.\u001b[0m\u001b[0msample\u001b[0m\u001b[0;34m(\u001b[0m\u001b[0;36m3008\u001b[0m\u001b[0;34m)\u001b[0m\u001b[0;34m.\u001b[0m\u001b[0mappend\u001b[0m\u001b[0;34m(\u001b[0m\u001b[0mtrain\u001b[0m\u001b[0;34m[\u001b[0m\u001b[0mtrain\u001b[0m\u001b[0;34m[\u001b[0m\u001b[0;34m\"TARGET\"\u001b[0m\u001b[0;34m]\u001b[0m \u001b[0;34m==\u001b[0m \u001b[0;36m1\u001b[0m\u001b[0;34m]\u001b[0m\u001b[0;34m)\u001b[0m\u001b[0;34m\u001b[0m\u001b[0;34m\u001b[0m\u001b[0m\n\u001b[0m",
      "\u001b[0;31mNameError\u001b[0m: name 'train1' is not defined"
     ]
    }
   ],
   "source": [
    "train = train[train1[\"TARGET\"] == 0].sample(3008).append(train[train[\"TARGET\"] == 1])"
   ]
  },
  {
   "cell_type": "code",
   "execution_count": null,
   "metadata": {},
   "outputs": [],
   "source": [
    "# Removing variables that represents the same\n",
    "\n",
    "train_corr = train2.corr(method = 'pearson')\n",
    "train_corr = np.array(train_corr.fillna(0))\n",
    "aux = []\n",
    "\n",
    "for i in range(len(train2.columns)-1):\n",
    "    for j in range(i+1, len(train_corr)-1):\n",
    "            if abs(train_corr[i][j]) > 0.95 and j not in aux:\n",
    "                aux.append(j)\n",
    "train3 = train2.drop(train2.columns[aux], axis = 1)"
   ]
  },
  {
   "cell_type": "code",
   "execution_count": null,
   "metadata": {},
   "outputs": [],
   "source": [
    "# Removing columns with correlation lower than 0.18 to the target variable\n",
    "\n",
    "train_corr = train3.corr(method = 'pearson')[\"TARGET\"]\n",
    "train_corr = train_corr.fillna(0)\n",
    "train4 = train3\n",
    "\n",
    "i = len(train_corr) - 2\n",
    "\n",
    "while i >= 0:\n",
    "    if abs(train_corr[i]) < 0.18:\n",
    "        train4 = train4.drop(train_corr.index[i],1)\n",
    "    i -= 1"
   ]
  },
  {
   "cell_type": "code",
   "execution_count": null,
   "metadata": {},
   "outputs": [],
   "source": [
    "train4[\"Zeros\"] = train4.apply(lambda x: sum(x == 0), 1)"
   ]
  },
  {
   "cell_type": "code",
   "execution_count": null,
   "metadata": {},
   "outputs": [],
   "source": [
    "train4.describe()"
   ]
  },
  {
   "cell_type": "code",
   "execution_count": null,
   "metadata": {},
   "outputs": [],
   "source": [
    "abs(train4.corr(method = 'pearson')[\"TARGET\"]).sort_values()"
   ]
  },
  {
   "cell_type": "code",
   "execution_count": null,
   "metadata": {},
   "outputs": [],
   "source": [
    "train4.boxplot(grid = False, figsize = (18,5))"
   ]
  },
  {
   "cell_type": "code",
   "execution_count": null,
   "metadata": {},
   "outputs": [],
   "source": [
    "def get_level(x):\n",
    "    if x > 19 and x < 26:\n",
    "        y = 1\n",
    "    else: y = 0\n",
    "    return y"
   ]
  },
  {
   "cell_type": "code",
   "execution_count": null,
   "metadata": {},
   "outputs": [],
   "source": [
    "train5 = train4"
   ]
  },
  {
   "cell_type": "code",
   "execution_count": null,
   "metadata": {},
   "outputs": [],
   "source": [
    "train5[\"var15_2\"] = train5[\"var15\"].apply(get_level)"
   ]
  },
  {
   "cell_type": "code",
   "execution_count": null,
   "metadata": {},
   "outputs": [],
   "source": [
    "train5"
   ]
  },
  {
   "cell_type": "code",
   "execution_count": null,
   "metadata": {},
   "outputs": [],
   "source": [
    "sns.pairplot(train5, hue=\"TARGET\", diag_kind = 'hist')"
   ]
  },
  {
   "cell_type": "code",
   "execution_count": null,
   "metadata": {},
   "outputs": [],
   "source": [
    "train5.groupby(\"TARGET\").Zeros.plot(kind='kde')"
   ]
  },
  {
   "cell_type": "code",
   "execution_count": null,
   "metadata": {},
   "outputs": [],
   "source": [
    "train5.groupby(\"TARGET\").var15.plot(kind='kde')"
   ]
  },
  {
   "cell_type": "code",
   "execution_count": null,
   "metadata": {},
   "outputs": [],
   "source": [
    "train5.groupby(\"TARGET\").num_meses_var5_ult3.plot(kind='kde')"
   ]
  },
  {
   "cell_type": "code",
   "execution_count": null,
   "metadata": {},
   "outputs": [],
   "source": [
    "def get_level(x):\n",
    "    if x == 0:\n",
    "        y = 0\n",
    "    if x == 3:\n",
    "        y = 1\n",
    "    else: y = 2\n",
    "    return y\n",
    "\n",
    "train5[\"num_meses_var5_ult3_levels\"] = train5[\"num_meses_var5_ult3\"].apply(get_level)\n",
    "\n",
    "train5.groupby(\"TARGET\").num_var30.plot(kind='kde')\n",
    "train5"
   ]
  },
  {
   "cell_type": "code",
   "execution_count": null,
   "metadata": {},
   "outputs": [],
   "source": [
    "train5.groupby(\"TARGET\").ind_var30.plot(kind='kde')"
   ]
  },
  {
   "cell_type": "code",
   "execution_count": null,
   "metadata": {},
   "outputs": [],
   "source": [
    "train5.groupby(\"TARGET\").num_var42.plot(kind='kde')"
   ]
  },
  {
   "cell_type": "code",
   "execution_count": null,
   "metadata": {},
   "outputs": [],
   "source": [
    "train5.groupby(\"TARGET\").ind_var5.plot(kind='kde')"
   ]
  },
  {
   "cell_type": "code",
   "execution_count": null,
   "metadata": {},
   "outputs": [],
   "source": [
    "train5.groupby(\"TARGET\").var36.plot(kind='kde')"
   ]
  },
  {
   "cell_type": "code",
   "execution_count": null,
   "metadata": {},
   "outputs": [],
   "source": [
    "# Normalizing Data\n",
    "\n",
    "scaler = MinMaxScaler(feature_range = (0, 1))\n",
    "train6 = pd.DataFrame(scaler.fit_transform(train5), columns=train5.columns)"
   ]
  },
  {
   "cell_type": "code",
   "execution_count": null,
   "metadata": {},
   "outputs": [],
   "source": [
    "sns.pairplot(train6, hue=\"TARGET\", diag_kind = 'hist')"
   ]
  },
  {
   "cell_type": "code",
   "execution_count": null,
   "metadata": {},
   "outputs": [],
   "source": [
    "# Removing columns with correlation higher than 0.20 to the target variable\n",
    "\n",
    "train_corr = train3.corr(method = 'pearson')[\"TARGET\"]\n",
    "train_corr = train_corr.fillna(0)\n",
    "trainPCA = train3\n",
    "\n",
    "i = len(train_corr) - 2\n",
    "\n",
    "while i >= 0:\n",
    "    if (abs(train_corr[i]) < 0.01) or (abs(train_corr[i]) > 0.20):\n",
    "        trainPCA = trainPCA.drop(train_corr.index[i],1)\n",
    "    i -= 1\n",
    "trainPCA = trainPCA.drop(\"TARGET\",1)\n",
    "\n",
    "print(trainPCA.shape)\n",
    "\n",
    "# Normalizing Data\n",
    "\n",
    "scaler = MinMaxScaler(feature_range = (0, 1))\n",
    "trainPCA = pd.DataFrame(scaler.fit_transform(trainPCA), columns=trainPCA.columns)\n",
    "\n",
    "# Applying PCA\n",
    "\n",
    "pca = PCA(n_components=4)\n",
    "trainPCA = pd.DataFrame(pca.fit_transform(trainPCA))\n",
    "trainPCA[\"TARGET\"] = train3[\"TARGET\"].values\n",
    "\n",
    "\n",
    "\n",
    "sns.pairplot(trainPCA, hue=\"TARGET\")\n",
    "trainPCA.corr(method = 'pearson')[\"TARGET\"]"
   ]
  }
 ],
 "metadata": {
  "kernelspec": {
   "display_name": "Python 3",
   "language": "python",
   "name": "python3"
  },
  "language_info": {
   "codemirror_mode": {
    "name": "ipython",
    "version": 3
   },
   "file_extension": ".py",
   "mimetype": "text/x-python",
   "name": "python",
   "nbconvert_exporter": "python",
   "pygments_lexer": "ipython3",
   "version": "3.7.6"
  }
 },
 "nbformat": 4,
 "nbformat_minor": 4
}
