{
 "cells": [
  {
   "cell_type": "code",
   "execution_count": 49,
   "metadata": {},
   "outputs": [],
   "source": [
    "import pandas as pd\n",
    "import numpy as np\n",
    "from scipy import stats\n",
    "from sklearn.preprocessing import MinMaxScaler\n",
    "from sklearn.decomposition import PCA"
   ]
  },
  {
   "cell_type": "code",
   "execution_count": 40,
   "metadata": {},
   "outputs": [],
   "source": [
    "# Loading train and test data\n",
    "\n",
    "train = pd.read_csv(\"../Dataset/train.csv\") \n",
    "test = pd.read_csv(\"../Dataset/test.csv\") \n",
    "\n",
    "# Balancing Data\n",
    "\n",
    "train = train[train[\"TARGET\"] == 0].sample(3008).append(train[train[\"TARGET\"] == 1])\n",
    "\n",
    "# Removing columns with correlation lower than 0.15 to the target variable\n",
    "\n",
    "train_corr = train.corr(method = 'pearson')[\"TARGET\"]\n",
    "train_corr = train_corr.fillna(0)\n",
    "\n",
    "for i in range(len(train_corr)):\n",
    "    if abs(train_corr[i]) < 0.15:\n",
    "        train = train.drop(train_corr.index[i],1)\n",
    "        test = test.drop(train_corr.index[i],1)\n",
    "\n",
    "Y = train[\"TARGET\"]\n",
    "X = train.drop(\"TARGET\",1)"
   ]
  },
  {
   "cell_type": "code",
   "execution_count": 44,
   "metadata": {},
   "outputs": [],
   "source": [
    "# Removing outliers\n",
    "\n",
    "X = X[(np.abs(stats.zscore(train3)) < 3).all(axis=1)]"
   ]
  },
  {
   "cell_type": "code",
   "execution_count": 46,
   "metadata": {},
   "outputs": [],
   "source": [
    "# Normalizing Data\n",
    "\n",
    "scaler = MinMaxScaler(feature_range = (0, 1))\n",
    "X = pd.DataFrame(scaler.fit_transform(X))\n",
    "test = pd.DataFrame(scaler.fit_transform(test))"
   ]
  },
  {
   "cell_type": "code",
   "execution_count": 61,
   "metadata": {},
   "outputs": [],
   "source": [
    "# Saving to csv files\n",
    "\n",
    "X.to_csv(\"../Dataset/X.csv\")\n",
    "Y.to_csv(\"../Dataset/Y.csv\")\n",
    "test.to_csv(\"../Dataset/test_2.csv\")"
   ]
  }
 ],
 "metadata": {
  "kernelspec": {
   "display_name": "Python 3",
   "language": "python",
   "name": "python3"
  },
  "language_info": {
   "codemirror_mode": {
    "name": "ipython",
    "version": 3
   },
   "file_extension": ".py",
   "mimetype": "text/x-python",
   "name": "python",
   "nbconvert_exporter": "python",
   "pygments_lexer": "ipython3",
   "version": "3.7.6"
  }
 },
 "nbformat": 4,
 "nbformat_minor": 4
}
