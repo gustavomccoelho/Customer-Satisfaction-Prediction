{
 "cells": [
  {
   "cell_type": "code",
   "execution_count": 3,
   "metadata": {},
   "outputs": [],
   "source": [
    "import pandas as pd\n",
    "import numpy as np\n",
    "from scipy import stats\n",
    "from sklearn.preprocessing import MinMaxScaler\n",
    "from sklearn.linear_model import LogisticRegression\n",
    "from xgboost import XGBClassifier\n",
    "from sklearn.ensemble import RandomForestClassifier"
   ]
  },
  {
   "cell_type": "code",
   "execution_count": 10,
   "metadata": {},
   "outputs": [],
   "source": [
    "# Loading train and test data\n",
    "\n",
    "train = pd.read_csv(\"../Dataset/train.csv\") \n",
    "test = pd.read_csv(\"../Dataset/test.csv\") \n",
    "\n",
    "# Balancing Data\n",
    "\n",
    "train = train[train[\"TARGET\"] == 0].sample(3008).append(train[train[\"TARGET\"] == 1])\n",
    "\n",
    "# Removing columns with correlation lower than 0.15 to the target variable\n",
    "\n",
    "train_corr = train.corr(method = 'pearson')[\"TARGET\"]\n",
    "train_corr = train_corr.fillna(0)\n",
    "\n",
    "for i in range(len(train_corr)):\n",
    "    if abs(train_corr[i]) < 0.05:\n",
    "        train = train.drop(train_corr.index[i],1)\n",
    "        test = test.drop(train_corr.index[i],1)"
   ]
  },
  {
   "cell_type": "code",
   "execution_count": 11,
   "metadata": {},
   "outputs": [],
   "source": [
    "# Removing outliers\n",
    "\n",
    "train = train[(np.abs(stats.zscore(train)) < 3).all(axis=1)]\n",
    "\n",
    "# Splitting data\n",
    "\n",
    "Y = train[\"TARGET\"]\n",
    "X = train.drop(\"TARGET\",1)\n",
    "\n",
    "# Normalizing Data\n",
    "\n",
    "scaler = MinMaxScaler(feature_range = (0, 1))\n",
    "X = pd.DataFrame(scaler.fit_transform(X))\n",
    "test = pd.DataFrame(scaler.fit_transform(test))\n"
   ]
  },
  {
   "cell_type": "code",
   "execution_count": 9,
   "metadata": {},
   "outputs": [],
   "source": [
    "#Training Model - Logistic Regression - 0.70 Accuracy\n",
    "\n",
    "model = LogisticRegression(max_iter = 500)\n",
    "model.fit(X, Y.values.ravel())\n",
    "\n",
    "# Runing the model on test data\n",
    "\n",
    "result = pd.DataFrame(model.predict(test), columns = [\"TARGET\"])\n",
    "\n",
    "result.index.name = \"ID\"\n",
    "ID = pd.read_csv(\"../Dataset/test.csv\")\n",
    "result.index = ID[\"ID\"]\n",
    "result.to_csv(\"../Dataset/Kaggle.csv\")"
   ]
  },
  {
   "cell_type": "code",
   "execution_count": 12,
   "metadata": {},
   "outputs": [],
   "source": [
    "#Training Model - XGBoost - 0.64 Accuracy\n",
    "\n",
    "model = XGBClassifier()\n",
    "model.fit(X, Y.values.ravel())\n",
    "\n",
    "# Runing the model on test data\n",
    "\n",
    "result = pd.DataFrame(model.predict(test), columns = [\"TARGET\"])\n",
    "\n",
    "result.index.name = \"ID\"\n",
    "ID = pd.read_csv(\"../Dataset/test.csv\")\n",
    "result.index = ID[\"ID\"]\n",
    "result.to_csv(\"../Dataset/Kaggle.csv\")"
   ]
  },
  {
   "cell_type": "code",
   "execution_count": null,
   "metadata": {},
   "outputs": [],
   "source": [
    "#Training Model - Random Forest - 0.65 Accuracy\n",
    "\n",
    "num_trees = 200\n",
    "max_features = 5\n",
    "model = RandomForestClassifier(n_estimators = num_trees, max_features = max_features)\n",
    "model.fit(X, Y.values.ravel())\n",
    "\n",
    "# Runing the model on test data\n",
    "\n",
    "result = pd.DataFrame(model.predict(test), columns = [\"TARGET\"])\n",
    "\n",
    "result.index.name = \"ID\"\n",
    "ID = pd.read_csv(\"../Dataset/test.csv\")\n",
    "result.index = ID[\"ID\"]\n",
    "result.to_csv(\"../Dataset/Kaggle.csv\")"
   ]
  },
  {
   "cell_type": "code",
   "execution_count": null,
   "metadata": {},
   "outputs": [],
   "source": []
  }
 ],
 "metadata": {
  "kernelspec": {
   "display_name": "Python 3",
   "language": "python",
   "name": "python3"
  },
  "language_info": {
   "codemirror_mode": {
    "name": "ipython",
    "version": 3
   },
   "file_extension": ".py",
   "mimetype": "text/x-python",
   "name": "python",
   "nbconvert_exporter": "python",
   "pygments_lexer": "ipython3",
   "version": "3.7.6"
  }
 },
 "nbformat": 4,
 "nbformat_minor": 4
}
