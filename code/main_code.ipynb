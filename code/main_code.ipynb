{
 "cells": [
  {
   "cell_type": "code",
   "execution_count": 1,
   "metadata": {},
   "outputs": [],
   "source": [
    "import pandas as pd\n",
    "import numpy as np\n",
    "from scipy import stats\n",
    "from sklearn.preprocessing import MinMaxScaler\n",
    "from sklearn.linear_model import LogisticRegression\n",
    "from xgboost import XGBClassifier\n",
    "from sklearn.ensemble import RandomForestClassifier\n",
    "from sklearn.decomposition import PCA\n",
    "from sklearn import preprocessing"
   ]
  },
  {
   "cell_type": "code",
   "execution_count": 2,
   "metadata": {},
   "outputs": [],
   "source": [
    "# Loading train and test data\n",
    "\n",
    "train = pd.read_csv(\"../Dataset/train.csv\") \n",
    "test = pd.read_csv(\"../Dataset/test.csv\") \n"
   ]
  },
  {
   "cell_type": "code",
   "execution_count": 3,
   "metadata": {},
   "outputs": [],
   "source": [
    "# Balancing Data\n",
    "\n",
    "train = train[train[\"TARGET\"] == 0].sample(3008).append(train[train[\"TARGET\"] == 1])"
   ]
  },
  {
   "cell_type": "code",
   "execution_count": 4,
   "metadata": {},
   "outputs": [],
   "source": [
    "# Removing variables that represents the same\n",
    "\n",
    "train_corr = train.corr(method = 'pearson')\n",
    "train_corr = np.array(train_corr.fillna(0))\n",
    "aux = []\n",
    "\n",
    "for i in range(len(train.columns)-1):\n",
    "    for j in range(i+1, len(train_corr)-1):\n",
    "            if abs(train_corr[i][j]) > 0.90 and j not in aux:\n",
    "                aux.append(j)\n",
    "                \n",
    "cols = train.columns[aux]\n",
    "train = train.drop(cols, axis = 1)\n",
    "test = test.drop(cols, axis = 1)"
   ]
  },
  {
   "cell_type": "code",
   "execution_count": 5,
   "metadata": {},
   "outputs": [],
   "source": [
    "# Getting columns with low correlation and applying PCA\n",
    "\n",
    "train_corr = train.corr(method = 'spearman')[\"TARGET\"]\n",
    "train_corr = train_corr.fillna(0)\n",
    "trainPCA = train\n",
    "testPCA = test\n",
    "\n",
    "i = len(train_corr) - 2\n",
    "\n",
    "while i >= 0:\n",
    "    if (abs(train_corr[i]) < 0.10) or (abs(train_corr[i]) > 0.20):\n",
    "        trainPCA = trainPCA.drop(train_corr.index[i],1)\n",
    "        testPCA = testPCA.drop(train_corr.index[i],1)\n",
    "    i -= 1\n",
    "trainPCA = trainPCA.drop(\"TARGET\",1)\n",
    "\n",
    "# Applying PCA\n",
    "\n",
    "pca = PCA(n_components=3)\n",
    "trainPCA = pd.DataFrame(pca.fit_transform(trainPCA))\n",
    "testPCA = pd.DataFrame(pca.fit_transform(testPCA))"
   ]
  },
  {
   "cell_type": "code",
   "execution_count": 6,
   "metadata": {},
   "outputs": [],
   "source": [
    "# Removing columns with correlation lower than 0.13 to the target variable\n",
    "\n",
    "train_corr = train.corr(method = 'pearson')[\"TARGET\"]\n",
    "train_corr = train_corr.fillna(0)\n",
    "\n",
    "i = len(train_corr) - 2\n",
    "\n",
    "while i >= 0:\n",
    "    if abs(train_corr[i]) < 0.20:\n",
    "        col = train_corr.index[i]\n",
    "        train = train.drop(col,1)\n",
    "        test = test.drop(col,1)\n",
    "    i -= 1"
   ]
  },
  {
   "cell_type": "code",
   "execution_count": null,
   "metadata": {},
   "outputs": [],
   "source": [
    "# Making var15 levels\n",
    "\n",
    "def get_level(x):\n",
    "    if x > 19 and x < 26:\n",
    "        y = 1\n",
    "    else: y = 0\n",
    "    return y\n",
    "\n",
    "train[\"var15_2\"] = train[\"var15\"].apply(get_level)\n",
    "test[\"var15_2\"] = test[\"var15\"].apply(get_level)"
   ]
  },
  {
   "cell_type": "code",
   "execution_count": null,
   "metadata": {},
   "outputs": [],
   "source": [
    "# Merging data\n",
    "\n",
    "train[\"PCA1\"] = trainPCA[0].values\n",
    "train[\"PCA2\"] = trainPCA[1].values\n",
    "train[\"PCA3\"] = trainPCA[2].values\n",
    "#train[\"PCA4\"] = trainPCA[3].values\n",
    "\n",
    "test[\"PCA1\"] = testPCA[0].values\n",
    "test[\"PCA2\"] = testPCA[1].values\n",
    "test[\"PCA3\"] = testPCA[2].values\n",
    "#test[\"PCA4\"] = testPCA[3].values"
   ]
  },
  {
   "cell_type": "code",
   "execution_count": null,
   "metadata": {},
   "outputs": [],
   "source": [
    "# Removing outliers\n",
    "\n",
    "train = train[(np.abs(stats.zscore(train)) < 3).all(axis=1)]"
   ]
  },
  {
   "cell_type": "code",
   "execution_count": null,
   "metadata": {},
   "outputs": [],
   "source": [
    "# Splitting data\n",
    "\n",
    "Y = train[\"TARGET\"]    \n",
    "X = train.drop(\"TARGET\",1)"
   ]
  },
  {
   "cell_type": "code",
   "execution_count": null,
   "metadata": {},
   "outputs": [],
   "source": [
    "# Normalizing Data\n",
    "\n",
    "x = X.values\n",
    "min_max_scaler = preprocessing.MinMaxScaler(feature_range = (0, 1))\n",
    "x_scaled = min_max_scaler.fit_transform(x)\n",
    "X = pd.DataFrame(x_scaled, columns = X.columns)\n",
    "\n",
    "x = test.values\n",
    "min_max_scaler = preprocessing.MinMaxScaler(feature_range = (0, 1))\n",
    "x_scaled = min_max_scaler.fit_transform(x)\n",
    "test = pd.DataFrame(x_scaled, columns = test.columns)"
   ]
  },
  {
   "cell_type": "code",
   "execution_count": null,
   "metadata": {},
   "outputs": [],
   "source": [
    "X.describe()"
   ]
  },
  {
   "cell_type": "code",
   "execution_count": null,
   "metadata": {},
   "outputs": [],
   "source": [
    "#Training Model - Random Forest - 0.65 Accuracy\n",
    "\n",
    "num_trees = 200\n",
    "max_features = 5\n",
    "model = RandomForestClassifier(n_estimators = num_trees, max_features = max_features)\n",
    "model.fit(X, Y.values.ravel())\n",
    "\n",
    "model.feature_importances_"
   ]
  },
  {
   "cell_type": "code",
   "execution_count": null,
   "metadata": {},
   "outputs": [],
   "source": [
    "#Training Model - Logistic Regression - 0.70 Accuracy\n",
    "\n",
    "model = LogisticRegression()\n",
    "result = model.fit(X, Y)\n",
    "\n",
    "# Runing the model on test data\n",
    "\n",
    "result = pd.DataFrame(model.predict(test), columns = [\"TARGET\"])\n",
    "\n",
    "result.index.name = \"ID\"\n",
    "ID = pd.read_csv(\"../Dataset/test.csv\")\n",
    "result.index = ID[\"ID\"]\n",
    "result.to_csv(\"../Dataset/Kaggle.csv\")"
   ]
  },
  {
   "cell_type": "code",
   "execution_count": null,
   "metadata": {},
   "outputs": [],
   "source": []
  },
  {
   "cell_type": "code",
   "execution_count": null,
   "metadata": {},
   "outputs": [],
   "source": []
  }
 ],
 "metadata": {
  "kernelspec": {
   "display_name": "Python 3",
   "language": "python",
   "name": "python3"
  },
  "language_info": {
   "codemirror_mode": {
    "name": "ipython",
    "version": 3
   },
   "file_extension": ".py",
   "mimetype": "text/x-python",
   "name": "python",
   "nbconvert_exporter": "python",
   "pygments_lexer": "ipython3",
   "version": "3.7.6"
  }
 },
 "nbformat": 4,
 "nbformat_minor": 4
}
