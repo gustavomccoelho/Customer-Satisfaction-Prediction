{
 "cells": [
  {
   "cell_type": "code",
   "execution_count": 35,
   "metadata": {},
   "outputs": [],
   "source": [
    "import pandas as pd\n",
    "import numpy as np\n",
    "from sklearn.linear_model import LogisticRegression\n",
    "from sklearn.ensemble import GradientBoostingClassifier\n",
    "from sklearn.ensemble import RandomForestClassifier\n",
    "import matplotlib.pyplot as plt"
   ]
  },
  {
   "cell_type": "code",
   "execution_count": 36,
   "metadata": {},
   "outputs": [],
   "source": [
    "# Loading train and test data\n",
    "\n",
    "train = pd.read_csv(\"../Dataset/train_2.csv\").drop(\"Unnamed: 0\",1) \n",
    "test = pd.read_csv(\"../Dataset/test_2.csv\").drop(\"Unnamed: 0\",1) "
   ]
  },
  {
   "cell_type": "code",
   "execution_count": 37,
   "metadata": {},
   "outputs": [],
   "source": [
    "# Splitting data\n",
    "\n",
    "Y = train[\"TARGET\"]    \n",
    "X = train.drop(\"TARGET\", 1) "
   ]
  },
  {
   "cell_type": "code",
   "execution_count": 38,
   "metadata": {},
   "outputs": [],
   "source": [
    "#Training Model - Logistic Regression - 0.68 Accuracy\n",
    "\n",
    "model = LogisticRegression(max_iter= 1000)\n",
    "fit = model.fit(X, Y)\n",
    "\n",
    "result = pd.DataFrame(fit.predict(test), columns = [\"TARGET\"])\n",
    "result.index.name = \"ID\"\n",
    "ID = pd.read_csv(\"../Dataset/test.csv\")\n",
    "result.index = ID[\"ID\"]\n",
    "result.to_csv(\"../Dataset/Kaggle.csv\")"
   ]
  },
  {
   "cell_type": "code",
   "execution_count": 33,
   "metadata": {},
   "outputs": [],
   "source": [
    "#Training Model - GBoost - 0.68 Accuracy\n",
    "\n",
    "model = GradientBoostingClassifier(n_estimators = 1000, max_depth = 2)\n",
    "fit = model.fit(X, Y)\n",
    "\n",
    "result = pd.DataFrame(fit.predict(test), columns = [\"TARGET\"])\n",
    "result.index.name = \"ID\"\n",
    "ID = pd.read_csv(\"../Dataset/test.csv\")\n",
    "result.index = ID[\"ID\"]\n",
    "result.to_csv(\"../Dataset/Kaggle.csv\")"
   ]
  },
  {
   "cell_type": "code",
   "execution_count": 34,
   "metadata": {},
   "outputs": [
    {
     "data": {
      "text/plain": [
       "Text(0.5, 1.0, 'Feature Importance (MDI)')"
      ]
     },
     "execution_count": 34,
     "metadata": {},
     "output_type": "execute_result"
    },
    {
     "data": {
      "image/png": "[encoded data removed]",
      "text/plain": [
       "<Figure size 864x432 with 1 Axes>"
      ]
     },
     "metadata": {
      "needs_background": "light"
     },
     "output_type": "display_data"
    }
   ],
   "source": [
    "# Feature Selection\n",
    "\n",
    "feature_importance = fit.feature_importances_\n",
    "sorted_idx = np.argsort(feature_importance)\n",
    "pos = np.arange(sorted_idx.shape[0]) + .5\n",
    "fig = plt.figure(figsize=(12, 6))\n",
    "plt.subplot(1, 2, 1)\n",
    "plt.barh(pos, feature_importance[sorted_idx], align='center')\n",
    "plt.yticks(pos, np.array(X.columns)[sorted_idx])\n",
    "plt.title('Feature Importance (MDI)')"
   ]
  }
 ],
 "metadata": {
  "kernelspec": {
   "display_name": "Python 3",
   "language": "python",
   "name": "python3"
  },
  "language_info": {
   "codemirror_mode": {
    "name": "ipython",
    "version": 3
   },
   "file_extension": ".py",
   "mimetype": "text/x-python",
   "name": "python",
   "nbconvert_exporter": "python",
   "pygments_lexer": "ipython3",
   "version": "3.7.6"
  }
 },
 "nbformat": 4,
 "nbformat_minor": 4
}
