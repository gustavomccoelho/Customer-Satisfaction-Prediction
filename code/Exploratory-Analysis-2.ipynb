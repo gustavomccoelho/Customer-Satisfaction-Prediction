{
 "cells": [
  {
   "cell_type": "code",
   "execution_count": 1,
   "metadata": {},
   "outputs": [],
   "source": [
    "import pandas as pd\n",
    "import numpy as np\n",
    "import seaborn as sns\n",
    "from scipy import stats\n",
    "import matplotlib.pyplot as plt"
   ]
  },
  {
   "cell_type": "code",
   "execution_count": 2,
   "metadata": {},
   "outputs": [
    {
     "data": {
      "text/html": [
       "<div>\n",
       "<style scoped>\n",
       "    .dataframe tbody tr th:only-of-type {\n",
       "        vertical-align: middle;\n",
       "    }\n",
       "\n",
       "    .dataframe tbody tr th {\n",
       "        vertical-align: top;\n",
       "    }\n",
       "\n",
       "    .dataframe thead th {\n",
       "        text-align: right;\n",
       "    }\n",
       "</style>\n",
       "<table border=\"1\" class=\"dataframe\">\n",
       "  <thead>\n",
       "    <tr style=\"text-align: right;\">\n",
       "      <th></th>\n",
       "      <th>var15</th>\n",
       "      <th>ind_var5</th>\n",
       "      <th>ind_var30</th>\n",
       "      <th>num_var4</th>\n",
       "      <th>num_var5</th>\n",
       "      <th>num_var30</th>\n",
       "      <th>num_var42</th>\n",
       "      <th>var36</th>\n",
       "      <th>num_meses_var5_ult3</th>\n",
       "      <th>Zeros</th>\n",
       "      <th>PCA0</th>\n",
       "      <th>PCA1</th>\n",
       "      <th>PCA2</th>\n",
       "      <th>PCA3</th>\n",
       "      <th>TARGET</th>\n",
       "    </tr>\n",
       "  </thead>\n",
       "  <tbody>\n",
       "    <tr>\n",
       "      <th>count</th>\n",
       "      <td>6016.000000</td>\n",
       "      <td>6016.000000</td>\n",
       "      <td>6016.000000</td>\n",
       "      <td>6016.000000</td>\n",
       "      <td>6016.000000</td>\n",
       "      <td>6016.000000</td>\n",
       "      <td>6016.000000</td>\n",
       "      <td>6016.000000</td>\n",
       "      <td>6016.000000</td>\n",
       "      <td>6016.000000</td>\n",
       "      <td>6.016000e+03</td>\n",
       "      <td>6016.000000</td>\n",
       "      <td>6016.000000</td>\n",
       "      <td>6016.000000</td>\n",
       "      <td>6016.000000</td>\n",
       "    </tr>\n",
       "    <tr>\n",
       "      <th>mean</th>\n",
       "      <td>0.322317</td>\n",
       "      <td>0.500831</td>\n",
       "      <td>0.567487</td>\n",
       "      <td>0.151042</td>\n",
       "      <td>0.251745</td>\n",
       "      <td>0.200798</td>\n",
       "      <td>0.189051</td>\n",
       "      <td>0.526307</td>\n",
       "      <td>0.498005</td>\n",
       "      <td>0.810026</td>\n",
       "      <td>3.989362e-03</td>\n",
       "      <td>0.060284</td>\n",
       "      <td>0.084066</td>\n",
       "      <td>0.327487</td>\n",
       "      <td>0.500000</td>\n",
       "    </tr>\n",
       "    <tr>\n",
       "      <th>std</th>\n",
       "      <td>0.133505</td>\n",
       "      <td>0.500041</td>\n",
       "      <td>0.495466</td>\n",
       "      <td>0.166752</td>\n",
       "      <td>0.252661</td>\n",
       "      <td>0.186202</td>\n",
       "      <td>0.175684</td>\n",
       "      <td>0.489467</td>\n",
       "      <td>0.462579</td>\n",
       "      <td>0.163285</td>\n",
       "      <td>6.304052e-02</td>\n",
       "      <td>0.026152</td>\n",
       "      <td>0.020450</td>\n",
       "      <td>0.034894</td>\n",
       "      <td>0.500042</td>\n",
       "    </tr>\n",
       "    <tr>\n",
       "      <th>min</th>\n",
       "      <td>0.000000</td>\n",
       "      <td>0.000000</td>\n",
       "      <td>0.000000</td>\n",
       "      <td>0.000000</td>\n",
       "      <td>0.000000</td>\n",
       "      <td>0.000000</td>\n",
       "      <td>0.000000</td>\n",
       "      <td>0.000000</td>\n",
       "      <td>0.000000</td>\n",
       "      <td>0.000000</td>\n",
       "      <td>0.000000e+00</td>\n",
       "      <td>0.000000</td>\n",
       "      <td>0.000000</td>\n",
       "      <td>0.000000</td>\n",
       "      <td>0.000000</td>\n",
       "    </tr>\n",
       "    <tr>\n",
       "      <th>25%</th>\n",
       "      <td>0.206186</td>\n",
       "      <td>0.000000</td>\n",
       "      <td>0.000000</td>\n",
       "      <td>0.000000</td>\n",
       "      <td>0.000000</td>\n",
       "      <td>0.000000</td>\n",
       "      <td>0.000000</td>\n",
       "      <td>0.020202</td>\n",
       "      <td>0.000000</td>\n",
       "      <td>0.731092</td>\n",
       "      <td>9.605320e-11</td>\n",
       "      <td>0.048518</td>\n",
       "      <td>0.081464</td>\n",
       "      <td>0.323769</td>\n",
       "      <td>0.000000</td>\n",
       "    </tr>\n",
       "    <tr>\n",
       "      <th>50%</th>\n",
       "      <td>0.298969</td>\n",
       "      <td>1.000000</td>\n",
       "      <td>1.000000</td>\n",
       "      <td>0.166667</td>\n",
       "      <td>0.500000</td>\n",
       "      <td>0.333333</td>\n",
       "      <td>0.333333</td>\n",
       "      <td>1.000000</td>\n",
       "      <td>0.666667</td>\n",
       "      <td>0.823529</td>\n",
       "      <td>1.269841e-10</td>\n",
       "      <td>0.057213</td>\n",
       "      <td>0.082041</td>\n",
       "      <td>0.323803</td>\n",
       "      <td>0.500000</td>\n",
       "    </tr>\n",
       "    <tr>\n",
       "      <th>75%</th>\n",
       "      <td>0.402062</td>\n",
       "      <td>1.000000</td>\n",
       "      <td>1.000000</td>\n",
       "      <td>0.166667</td>\n",
       "      <td>0.500000</td>\n",
       "      <td>0.333333</td>\n",
       "      <td>0.333333</td>\n",
       "      <td>1.000000</td>\n",
       "      <td>1.000000</td>\n",
       "      <td>0.949580</td>\n",
       "      <td>1.429844e-10</td>\n",
       "      <td>0.062587</td>\n",
       "      <td>0.082629</td>\n",
       "      <td>0.323833</td>\n",
       "      <td>1.000000</td>\n",
       "    </tr>\n",
       "    <tr>\n",
       "      <th>max</th>\n",
       "      <td>1.000000</td>\n",
       "      <td>1.000000</td>\n",
       "      <td>1.000000</td>\n",
       "      <td>1.000000</td>\n",
       "      <td>1.000000</td>\n",
       "      <td>1.000000</td>\n",
       "      <td>1.000000</td>\n",
       "      <td>1.000000</td>\n",
       "      <td>1.000000</td>\n",
       "      <td>1.000000</td>\n",
       "      <td>1.000000e+00</td>\n",
       "      <td>1.000000</td>\n",
       "      <td>1.000000</td>\n",
       "      <td>1.000000</td>\n",
       "      <td>1.000000</td>\n",
       "    </tr>\n",
       "  </tbody>\n",
       "</table>\n",
       "</div>"
      ],
      "text/plain": [
       "             var15     ind_var5    ind_var30     num_var4     num_var5  \\\n",
       "count  6016.000000  6016.000000  6016.000000  6016.000000  6016.000000   \n",
       "mean      0.322317     0.500831     0.567487     0.151042     0.251745   \n",
       "std       0.133505     0.500041     0.495466     0.166752     0.252661   \n",
       "min       0.000000     0.000000     0.000000     0.000000     0.000000   \n",
       "25%       0.206186     0.000000     0.000000     0.000000     0.000000   \n",
       "50%       0.298969     1.000000     1.000000     0.166667     0.500000   \n",
       "75%       0.402062     1.000000     1.000000     0.166667     0.500000   \n",
       "max       1.000000     1.000000     1.000000     1.000000     1.000000   \n",
       "\n",
       "         num_var30    num_var42        var36  num_meses_var5_ult3  \\\n",
       "count  6016.000000  6016.000000  6016.000000          6016.000000   \n",
       "mean      0.200798     0.189051     0.526307             0.498005   \n",
       "std       0.186202     0.175684     0.489467             0.462579   \n",
       "min       0.000000     0.000000     0.000000             0.000000   \n",
       "25%       0.000000     0.000000     0.020202             0.000000   \n",
       "50%       0.333333     0.333333     1.000000             0.666667   \n",
       "75%       0.333333     0.333333     1.000000             1.000000   \n",
       "max       1.000000     1.000000     1.000000             1.000000   \n",
       "\n",
       "             Zeros          PCA0         PCA1         PCA2         PCA3  \\\n",
       "count  6016.000000  6.016000e+03  6016.000000  6016.000000  6016.000000   \n",
       "mean      0.810026  3.989362e-03     0.060284     0.084066     0.327487   \n",
       "std       0.163285  6.304052e-02     0.026152     0.020450     0.034894   \n",
       "min       0.000000  0.000000e+00     0.000000     0.000000     0.000000   \n",
       "25%       0.731092  9.605320e-11     0.048518     0.081464     0.323769   \n",
       "50%       0.823529  1.269841e-10     0.057213     0.082041     0.323803   \n",
       "75%       0.949580  1.429844e-10     0.062587     0.082629     0.323833   \n",
       "max       1.000000  1.000000e+00     1.000000     1.000000     1.000000   \n",
       "\n",
       "            TARGET  \n",
       "count  6016.000000  \n",
       "mean      0.500000  \n",
       "std       0.500042  \n",
       "min       0.000000  \n",
       "25%       0.000000  \n",
       "50%       0.500000  \n",
       "75%       1.000000  \n",
       "max       1.000000  "
      ]
     },
     "execution_count": 2,
     "metadata": {},
     "output_type": "execute_result"
    }
   ],
   "source": [
    "# Loading train and test data\n",
    "\n",
    "train = pd.read_csv(\"../Dataset/train_1.csv\").drop(\"Unnamed: 0\",1) \n",
    "test = pd.read_csv(\"../Dataset/test_1.csv\").drop(\"Unnamed: 0\",1) \n",
    "\n",
    "train.describe()"
   ]
  },
  {
   "cell_type": "code",
   "execution_count": 3,
   "metadata": {},
   "outputs": [],
   "source": [
    "# Making pairplot\n",
    "\n",
    "#sns.pairplot(train, hue=\"TARGET\", diag_kind = 'hist')"
   ]
  },
  {
   "cell_type": "code",
   "execution_count": 4,
   "metadata": {},
   "outputs": [
    {
     "data": {
      "text/plain": [
       "TARGET\n",
       "0    AxesSubplot(0.125,0.125;0.775x0.755)\n",
       "1    AxesSubplot(0.125,0.125;0.775x0.755)\n",
       "Name: var15, dtype: object"
      ]
     },
     "execution_count": 4,
     "metadata": {},
     "output_type": "execute_result"
    },
    {
     "data": {
      "image/png": "[encoded data removed]",
      "text/plain": [
       "<Figure size 432x288 with 1 Axes>"
      ]
     },
     "metadata": {
      "needs_background": "light"
     },
     "output_type": "display_data"
    }
   ],
   "source": [
    "# Analysing var15\n",
    "\n",
    "train.groupby(\"TARGET\").var15.plot(kind='kde')"
   ]
  },
  {
   "cell_type": "code",
   "execution_count": 17,
   "metadata": {},
   "outputs": [
    {
     "data": {
      "text/plain": [
       "TARGET\n",
       "0    AxesSubplot(0.125,0.125;0.775x0.755)\n",
       "1    AxesSubplot(0.125,0.125;0.775x0.755)\n",
       "Name: var15_level, dtype: object"
      ]
     },
     "execution_count": 17,
     "metadata": {},
     "output_type": "execute_result"
    },
    {
     "data": {
      "image/png": "[encoded data removed]",
      "text/plain": [
       "<Figure size 432x288 with 1 Axes>"
      ]
     },
     "metadata": {
      "needs_background": "light"
     },
     "output_type": "display_data"
    }
   ],
   "source": [
    "# Creating a new variable\n",
    "\n",
    "def get_level(x):\n",
    "    if x > 0 and x < 0.23:\n",
    "        y = 1\n",
    "    else: y = 0\n",
    "    return y\n",
    "\n",
    "train[\"var15_level\"] = train[\"var15\"].apply(get_level)\n",
    "test[\"var15_level\"] = test[\"var15\"].apply(get_level)\n",
    "train.groupby(\"TARGET\").var15_level.plot(kind='kde')"
   ]
  },
  {
   "cell_type": "code",
   "execution_count": 6,
   "metadata": {},
   "outputs": [
    {
     "data": {
      "text/plain": [
       "TARGET\n",
       "0    AxesSubplot(0.125,0.125;0.775x0.755)\n",
       "1    AxesSubplot(0.125,0.125;0.775x0.755)\n",
       "Name: Zeros, dtype: object"
      ]
     },
     "execution_count": 6,
     "metadata": {},
     "output_type": "execute_result"
    },
    {
     "data": {
      "image/png": "[encoded data removed]",
      "text/plain": [
       "<Figure size 432x288 with 1 Axes>"
      ]
     },
     "metadata": {
      "needs_background": "light"
     },
     "output_type": "display_data"
    }
   ],
   "source": [
    "# Analysing Zeros\n",
    "\n",
    "train.groupby(\"TARGET\").Zeros.plot(kind='kde')"
   ]
  },
  {
   "cell_type": "code",
   "execution_count": 13,
   "metadata": {},
   "outputs": [
    {
     "data": {
      "text/plain": [
       "TARGET\n",
       "0    AxesSubplot(0.125,0.125;0.775x0.755)\n",
       "1    AxesSubplot(0.125,0.125;0.775x0.755)\n",
       "Name: Zeros_level, dtype: object"
      ]
     },
     "execution_count": 13,
     "metadata": {},
     "output_type": "execute_result"
    },
    {
     "data": {
      "image/png": "[encoded data removed]",
      "text/plain": [
       "<Figure size 432x288 with 1 Axes>"
      ]
     },
     "metadata": {
      "needs_background": "light"
     },
     "output_type": "display_data"
    }
   ],
   "source": [
    "# Creating a new variable\n",
    "\n",
    "def get_level(x):\n",
    "    if x > 0.87:\n",
    "        y = 1\n",
    "    else: y = 0\n",
    "    return y\n",
    "\n",
    "train[\"Zeros_level\"] = train[\"Zeros\"].apply(get_level)\n",
    "test[\"Zeros_level\"] = test[\"Zeros\"].apply(get_level)\n",
    "train.groupby(\"TARGET\").Zeros_level.plot(kind='kde')"
   ]
  },
  {
   "cell_type": "code",
   "execution_count": 14,
   "metadata": {},
   "outputs": [
    {
     "data": {
      "text/plain": [
       "PCA0                   0.031644\n",
       "PCA2                   0.077868\n",
       "PCA3                   0.080415\n",
       "PCA1                   0.083948\n",
       "Zeros                  0.168035\n",
       "num_var4               0.186091\n",
       "var36                  0.255092\n",
       "var15                  0.263786\n",
       "num_var5               0.301669\n",
       "ind_var5               0.304189\n",
       "num_var42              0.306578\n",
       "Zeros_level            0.318078\n",
       "num_var30              0.324376\n",
       "ind_var30              0.325452\n",
       "num_meses_var5_ult3    0.333496\n",
       "var15_level            0.388905\n",
       "TARGET                 1.000000\n",
       "Name: TARGET, dtype: float64"
      ]
     },
     "execution_count": 14,
     "metadata": {},
     "output_type": "execute_result"
    }
   ],
   "source": [
    "# Checking correlation of remaining variables to the target variable\n",
    "\n",
    "abs(train.corr(method = 'pearson')[\"TARGET\"]).sort_values()"
   ]
  },
  {
   "cell_type": "code",
   "execution_count": 15,
   "metadata": {},
   "outputs": [],
   "source": [
    "# Saving data\n",
    "\n",
    "train.to_csv(\"../Dataset/train_2.csv\")\n",
    "test.to_csv(\"../Dataset/test_2.csv\")"
   ]
  }
 ],
 "metadata": {
  "kernelspec": {
   "display_name": "Python 3",
   "language": "python",
   "name": "python3"
  },
  "language_info": {
   "codemirror_mode": {
    "name": "ipython",
    "version": 3
   },
   "file_extension": ".py",
   "mimetype": "text/x-python",
   "name": "python",
   "nbconvert_exporter": "python",
   "pygments_lexer": "ipython3",
   "version": "3.7.6"
  }
 },
 "nbformat": 4,
 "nbformat_minor": 4
}
